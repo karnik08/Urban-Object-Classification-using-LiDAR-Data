{
 "cells": [
  {
   "cell_type": "code",
   "execution_count": null,
   "metadata": {},
   "outputs": [],
   "source": [
    "# import tensorflow as tf\n",
    "# print(\"Num GPUs Available: \", len(tf.config.list_physical_devices('GPU')))"
   ]
  },
  {
   "cell_type": "code",
   "execution_count": 1,
   "metadata": {},
   "outputs": [],
   "source": [
    "import pandas as pd\n",
    "import numpy as np\n"
   ]
  },
  {
   "cell_type": "code",
   "execution_count": 6,
   "metadata": {},
   "outputs": [],
   "source": [
    "df=pd.read_csv('data/test_geometric_features_normalized.csv')\n",
    "# df2=pd.read_csv('geometric_features.csv')"
   ]
  },
  {
   "cell_type": "code",
   "execution_count": 7,
   "metadata": {},
   "outputs": [
    {
     "name": "stdout",
     "output_type": "stream",
     "text": [
      "linearity             740\n",
      "planarity             740\n",
      "sphericity            740\n",
      "omnivariance          740\n",
      "anisotropy            740\n",
      "eigenentropy          740\n",
      "sum_of_eigenvalues    740\n",
      "change_curvature      740\n",
      "id                    740\n",
      "class                  12\n",
      "reflectance            19\n",
      "dtype: int64\n",
      "anisotropy            2438\n",
      "change_curvature      2438\n",
      "eigenentropy          2438\n",
      "linearity             2438\n",
      "omnivariance          2438\n",
      "planarity             2438\n",
      "sphericity            2438\n",
      "sum_of_eigenvalues    2438\n",
      "class                   47\n",
      "reflectance             37\n",
      "dtype: int64\n"
     ]
    }
   ],
   "source": []
  },
  {
   "cell_type": "code",
   "execution_count": null,
   "metadata": {},
   "outputs": [],
   "source": []
  }
 ],
 "metadata": {
  "kernelspec": {
   "display_name": "sean",
   "language": "python",
   "name": "my_env"
  },
  "language_info": {
   "codemirror_mode": {
    "name": "ipython",
    "version": 3
   },
   "file_extension": ".py",
   "mimetype": "text/x-python",
   "name": "python",
   "nbconvert_exporter": "python",
   "pygments_lexer": "ipython3",
   "version": "3.9.5"
  }
 },
 "nbformat": 4,
 "nbformat_minor": 4
}
