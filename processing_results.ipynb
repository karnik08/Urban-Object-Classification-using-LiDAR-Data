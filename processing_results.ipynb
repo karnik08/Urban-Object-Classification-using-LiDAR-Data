{
 "cells": [
  {
   "cell_type": "code",
   "execution_count": 101,
   "metadata": {},
   "outputs": [],
   "source": [
    "import pandas as pd\n",
    "import numpy as np"
   ]
  },
  {
   "cell_type": "code",
   "execution_count": 2,
   "metadata": {},
   "outputs": [],
   "source": [
    "df = pd.read_csv('test.csv')"
   ]
  },
  {
   "cell_type": "code",
   "execution_count": 3,
   "metadata": {},
   "outputs": [
    {
     "name": "stdout",
     "output_type": "stream",
     "text": [
      "                  Name   Barrier     Bench  Bicycle Rack  Bicycle Terminal  \\\n",
      "0  Logistic_regression  0.714286  0.000000      0.000000          0.000000   \n",
      "1              XGBoost  0.866667  0.400000      0.000000          1.000000   \n",
      "2        Random_forest  0.888889  0.666667      1.000000          1.000000   \n",
      "3          Naive_bayes  0.173913  0.000000      0.000000          0.000000   \n",
      "4  K-Nearest Neighbors  0.800000  0.285714      0.000000          0.666667   \n",
      "5             AdaBoost  0.972973  0.000000      0.666667          1.000000   \n",
      "6    Gradient_Boosting  0.536585  0.000000      0.666667          0.666667   \n",
      "7             PointNet  0.000000  0.000000      0.000000          0.000000   \n",
      "8               VoxNet  0.647059  0.000000      0.666667          0.750000   \n",
      "9     Gaussian_process       NaN       NaN      0.571429          0.782609   \n",
      "\n",
      "    Bollard  Building     Chair  Distribution Box  Floor Lamp  ...  \\\n",
      "0  0.797619  0.642857  0.000000          0.400000    0.851064  ...   \n",
      "1  0.971429  0.928571  1.000000          0.875000    0.982456  ...   \n",
      "2  0.967742  0.960000  1.000000          0.625000    0.983607  ...   \n",
      "3  0.027027  0.700000  0.000000          0.400000    0.062500  ...   \n",
      "4  0.825397  0.962963  0.666667          0.400000    0.904762  ...   \n",
      "5  0.973913  0.967742  1.000000          0.952381    0.983051  ...   \n",
      "6  0.976744  0.969697  1.000000          0.615385    0.755556  ...   \n",
      "7  0.266667  0.000000  0.000000          0.000000    0.026316  ...   \n",
      "8  0.815217  0.750000  0.000000          0.428571    0.716418  ...   \n",
      "9  0.904348  0.500000  0.000000          0.888889    0.875000  ...   \n",
      "\n",
      "   Traffic Light  Traffic Sign  Trash Can      Tree  Vegetation  Waste  \\\n",
      "0       0.400000      0.594595   0.797546  0.845070    0.266667    0.0   \n",
      "1       0.941176      0.935065   0.954128  0.971429    1.000000    1.0   \n",
      "2       0.933333      0.898551   0.933333  0.928571    0.785714    0.0   \n",
      "3       0.272727      0.304348   0.385542  0.434783    0.193548    0.0   \n",
      "4       0.250000      0.900000   0.865672  0.900901    0.833333    NaN   \n",
      "5       0.888889      0.962025   0.931298  0.978261    0.903226    0.0   \n",
      "6       0.823529      0.857143   0.928000  0.857143    0.645161    NaN   \n",
      "7       0.000000      0.325991   0.545455  0.511905    0.000000    NaN   \n",
      "8       0.461538      0.789474   0.770186  0.761062    0.551724    0.0   \n",
      "9       0.823529      0.700000   0.769231  0.941176    0.600000    0.0   \n",
      "\n",
      "       Wire    Windmill  Mailbox     Other  \n",
      "0  0.636364         NaN      NaN       NaN  \n",
      "1  1.000000         NaN      NaN       NaN  \n",
      "2  0.900000         NaN      NaN       NaN  \n",
      "3  0.538462         0.0      NaN       NaN  \n",
      "4  0.818182         NaN      NaN       NaN  \n",
      "5  0.941176  not tested      NaN       NaN  \n",
      "6  1.000000         NaN      0.0       NaN  \n",
      "7  0.090909         0.0      NaN  0.000000  \n",
      "8  0.800000         NaN      0.0  0.076923  \n",
      "9  0.782609         NaN      NaN       NaN  \n",
      "\n",
      "[10 rows x 49 columns]\n"
     ]
    }
   ],
   "source": [
    "print(df)"
   ]
  },
  {
   "cell_type": "code",
   "execution_count": 4,
   "metadata": {},
   "outputs": [
    {
     "name": "stdout",
     "output_type": "stream",
     "text": [
      "                                    0         1              2            3  \\\n",
      "Name              Logistic_regression   XGBoost  Random_forest  Naive_bayes   \n",
      "Bicycle Rack                        0         0              1            0   \n",
      "Bicycle Terminal                    0         1              1            0   \n",
      "Bollard                      0.797619  0.971429       0.967742     0.027027   \n",
      "Building                     0.642857  0.928571           0.96          0.7   \n",
      "Chair                               0         1              1            0   \n",
      "Distribution Box                  0.4     0.875          0.625          0.4   \n",
      "Floor Lamp                   0.851064  0.982456       0.983607       0.0625   \n",
      "Lighting Console             0.481013  0.934783       0.913043    0.0454545   \n",
      "Low Wall                          0.5         1       0.923077     0.214286   \n",
      "Mobile Car                          0  0.714286       0.555556            0   \n",
      "Natural                      0.662069   0.92437       0.904348    0.0821918   \n",
      "Parked Bicycle               0.266667  0.888889       0.967742            0   \n",
      "Parked Car                   0.923077  0.962963       0.956522     0.463215   \n",
      "Parked Scooter               0.181818     0.625       0.933333            0   \n",
      "Parked Van                          0  0.909091              1     0.146341   \n",
      "Pedestrian                    0.62963  0.961538       0.913043     0.545455   \n",
      "Post                                1         1              1            0   \n",
      "Potted Plant                      0.4         1       0.888889     0.529412   \n",
      "Sidewalk                     0.545455  0.923077       0.941176         0.75   \n",
      "Signboard                    0.285714  0.846154            0.6     0.235294   \n",
      "Traffic Light                     0.4  0.941176       0.933333     0.272727   \n",
      "Traffic Sign                 0.594595  0.935065       0.898551     0.304348   \n",
      "Trash Can                    0.797546  0.954128       0.933333     0.385542   \n",
      "Tree                          0.84507  0.971429       0.928571     0.434783   \n",
      "Vegetation                   0.266667         1       0.785714     0.193548   \n",
      "Wire                         0.636364         1            0.9     0.538462   \n",
      "\n",
      "                                    4         5                  6          7  \\\n",
      "Name              K-Nearest Neighbors  AdaBoost  Gradient_Boosting   PointNet   \n",
      "Bicycle Rack                        0  0.666667           0.666667          0   \n",
      "Bicycle Terminal             0.666667         1           0.666667          0   \n",
      "Bollard                      0.825397  0.973913           0.976744   0.266667   \n",
      "Building                     0.962963  0.967742           0.969697          0   \n",
      "Chair                        0.666667         1                  1          0   \n",
      "Distribution Box                  0.4  0.952381           0.615385          0   \n",
      "Floor Lamp                   0.904762  0.983051           0.755556  0.0263158   \n",
      "Lighting Console             0.666667  0.942857           0.582524          0   \n",
      "Low Wall                     0.774194  0.914286            0.97561   0.193548   \n",
      "Mobile Car                          0       0.8              0.625          0   \n",
      "Natural                      0.896552  0.890756           0.868687  0.0943396   \n",
      "Parked Bicycle                    0.7     0.875             0.8125          0   \n",
      "Parked Car                   0.826087  0.988372           0.916031   0.544218   \n",
      "Parked Scooter               0.666667     0.875           0.727273          0   \n",
      "Parked Van                       0.75  0.857143                  0          0   \n",
      "Pedestrian                   0.769231  0.848485           0.901961          0   \n",
      "Post                                1         1                  0          0   \n",
      "Potted Plant                 0.827586  0.869565                  1          0   \n",
      "Sidewalk                     0.941176         1           0.857143          0   \n",
      "Signboard                    0.333333  0.444444           0.545455          0   \n",
      "Traffic Light                    0.25  0.888889           0.823529          0   \n",
      "Traffic Sign                      0.9  0.962025           0.857143   0.325991   \n",
      "Trash Can                    0.865672  0.931298              0.928   0.545455   \n",
      "Tree                         0.900901  0.978261           0.857143   0.511905   \n",
      "Vegetation                   0.833333  0.903226           0.645161          0   \n",
      "Wire                         0.818182  0.941176                  1  0.0909091   \n",
      "\n",
      "                         8                 9  \n",
      "Name                VoxNet  Gaussian_process  \n",
      "Bicycle Rack      0.666667          0.571429  \n",
      "Bicycle Terminal      0.75          0.782609  \n",
      "Bollard           0.815217          0.904348  \n",
      "Building              0.75               0.5  \n",
      "Chair                    0                 0  \n",
      "Distribution Box  0.428571          0.888889  \n",
      "Floor Lamp        0.716418             0.875  \n",
      "Lighting Console  0.829787          0.883117  \n",
      "Low Wall          0.541667          0.454545  \n",
      "Mobile Car        0.769231             0.625  \n",
      "Natural            0.57971          0.885496  \n",
      "Parked Bicycle    0.823529          0.818182  \n",
      "Parked Car        0.857143           0.96124  \n",
      "Parked Scooter    0.761905             0.875  \n",
      "Parked Van        0.307692          0.416667  \n",
      "Pedestrian        0.526316              0.75  \n",
      "Post                     0                 1  \n",
      "Potted Plant          0.75          0.956522  \n",
      "Sidewalk               0.5          0.705882  \n",
      "Signboard             0.48                 0  \n",
      "Traffic Light     0.461538          0.823529  \n",
      "Traffic Sign      0.789474               0.7  \n",
      "Trash Can         0.770186          0.769231  \n",
      "Tree              0.761062          0.941176  \n",
      "Vegetation        0.551724               0.6  \n",
      "Wire                   0.8          0.782609  \n"
     ]
    }
   ],
   "source": [
    "# df.drop(df.index[df['Logistic_regression'] == 'NaN'], inplace = True)\n",
    "tdf = df.T\n",
    "for i in tdf:\n",
    "#     tdf.drop(tdf.index[tdf[i] == 'NaN'], inplace = True)\n",
    "    tdf.dropna(subset = [i], inplace=True)\n",
    "print(tdf)\n"
   ]
  },
  {
   "cell_type": "code",
   "execution_count": 5,
   "metadata": {},
   "outputs": [
    {
     "name": "stdout",
     "output_type": "stream",
     "text": [
      "                                    0\n",
      "Name              Logistic_regression\n",
      "Bicycle Rack                        0\n",
      "Bicycle Terminal                    0\n",
      "Bollard                      0.797619\n",
      "Building                     0.642857\n",
      "Chair                               0\n",
      "Distribution Box                  0.4\n",
      "Floor Lamp                   0.851064\n",
      "Lighting Console             0.481013\n",
      "Low Wall                          0.5\n",
      "Mobile Car                          0\n",
      "Natural                      0.662069\n",
      "Parked Bicycle               0.266667\n",
      "Parked Car                   0.923077\n",
      "Parked Scooter               0.181818\n",
      "Parked Van                          0\n",
      "Pedestrian                    0.62963\n",
      "Post                                1\n",
      "Potted Plant                      0.4\n",
      "Sidewalk                     0.545455\n",
      "Signboard                    0.285714\n",
      "Traffic Light                     0.4\n",
      "Traffic Sign                 0.594595\n",
      "Trash Can                    0.797546\n",
      "Tree                          0.84507\n",
      "Vegetation                   0.266667\n",
      "Wire                         0.636364\n"
     ]
    }
   ],
   "source": [
    "print(tdf[[0]])"
   ]
  },
  {
   "cell_type": "code",
   "execution_count": 49,
   "metadata": {},
   "outputs": [],
   "source": [
    "cols,rows=tdf.shape\n",
    "\n",
    "for i in range(rows):\n",
    "    for j in range(1,cols):\n",
    "        if tdf[i][j]>=0.5:\n",
    "            tdf[i][j]=1\n",
    "        else:\n",
    "            tdf[i][j]=0"
   ]
  },
  {
   "cell_type": "code",
   "execution_count": 127,
   "metadata": {},
   "outputs": [
    {
     "name": "stdout",
     "output_type": "stream",
     "text": [
      "['final', 0, 1, 1, 1, 0, 0, 1, 1, 1, 1, 1, 1, 1, 1, 0, 1, 1, 1, 1, 0, 0, 1, 1, 1, 1, 1]\n",
      "(10, 27)\n"
     ]
    }
   ],
   "source": [
    "# print(tdf[1])\n",
    "# for i in range(rows):\n",
    "#     print(tdf[i][:])\n",
    "ndf=tdf.T\n",
    "# print(ndf['Bicycle Rack'])\n",
    "final=['final']\n",
    "for i in ndf.columns:\n",
    "    if i=='Name':\n",
    "        continue\n",
    "#     print(i)\n",
    "#     print(sum(ndf[i]))\n",
    "    if sum(ndf[i])>5:\n",
    "        final.append(1)\n",
    "    else:\n",
    "        final.append(0)\n",
    "print(final)\n",
    "print(ndf.shape)"
   ]
  },
  {
   "cell_type": "code",
   "execution_count": 128,
   "metadata": {},
   "outputs": [
    {
     "name": "stdout",
     "output_type": "stream",
     "text": [
      "(1, 27)\n"
     ]
    }
   ],
   "source": [
    "final=np.array(final)\n",
    "final=np.expand_dims(final, axis=0)\n",
    "# final=final.transpose()\n",
    "print(final.shape)\n",
    "# print(final)\n",
    "# final=pd.DataFrame(final)\n",
    "final=pd.DataFrame(final,columns=ndf.columns)\n",
    "# print(final)\n",
    "# final=pd.DataFrame(final,ignore_index=True)\n",
    "# final=final.T\n",
    "ndf=ndf.append(final,ignore_index=True)\n",
    "# print(ndf)"
   ]
  },
  {
   "cell_type": "code",
   "execution_count": 129,
   "metadata": {},
   "outputs": [],
   "source": [
    "ndf.to_csv('check.csv')"
   ]
  },
  {
   "cell_type": "code",
   "execution_count": null,
   "metadata": {},
   "outputs": [],
   "source": []
  }
 ],
 "metadata": {
  "kernelspec": {
   "display_name": "Python 3",
   "language": "python",
   "name": "python3"
  },
  "language_info": {
   "codemirror_mode": {
    "name": "ipython",
    "version": 3
   },
   "file_extension": ".py",
   "mimetype": "text/x-python",
   "name": "python",
   "nbconvert_exporter": "python",
   "pygments_lexer": "ipython3",
   "version": "3.8.6"
  }
 },
 "nbformat": 4,
 "nbformat_minor": 4
}
